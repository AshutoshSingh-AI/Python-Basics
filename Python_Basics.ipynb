{
  "cells": [
    {
      "cell_type": "markdown",
      "metadata": {
        "id": "rYCcn9CUQtnj"
      },
      "source": [
        "# **Functions**"
      ]
    },
    {
      "cell_type": "markdown",
      "metadata": {
        "id": "qSh5YKStRqde"
      },
      "source": [
        "#1.What is Python, and why is it popular?\n",
        "   ->Python is a high-level, interpreted programming language known for its simplicity and readability.\n",
        "   It was created by Guido van Rossum and first released in 1991. Python emphasizes code readability\n",
        "   and uses significant indentation, which makes it easy to learn and use, especially for beginners.\n",
        "\n",
        "   Key Features of Python:-\n",
        "   1.Simple and Readable Syntax\n",
        "   2.Interpreted Language\n",
        "   3.Dynamically Typed\n",
        "   4.Extensive Standard Library\n",
        "   5.Cross-Platform Compatibility\n",
        "\n",
        "   Why Python Is Popular:\n",
        "   1.Ease of Learning and Use\n",
        "   2.Versatile Use Cases\n",
        "   3.Data science and machine learning (e.g., pandas, NumPy, scikit-learn, TensorFlow)\n",
        "   4.Scripting and automation\n",
        "   5.Game development\n",
        "\n",
        "\n",
        "\n",
        "\n",
        "\n"
      ]
    },
    {
      "cell_type": "markdown",
      "metadata": {
        "id": "pSw1FzUYS1Fq"
      },
      "source": [
        "# 2.What is an interpreter in Python?\n",
        "   ->An interpreter in Python is a program that reads and executes Python code line by line. Unlike compilers that convert the entire code into machine language before execution, the interpreter translates each line into machine instructions and runs it immediately. This makes debugging easier, as errors are reported as they occur. Python's interpreter handles tasks like memory management, variable tracking, and dynamic type checking. Popular Python interpreters include CPython (the default), PyPy, and Jython. The interpreter is what allows Python to be platform-independent, enabling the same code to run on different systems without modification."
      ]
    },
    {
      "cell_type": "markdown",
      "metadata": {
        "id": "5gpj7KL6Tv2w"
      },
      "source": [
        "# 3.What are pre-defined keywords in Python?\n",
        "  ->Pre-defined keywords in Python are reserved words that have special meanings and are part of the language’s syntax. They cannot be used as variable names, function names, or identifiers. These keywords define the structure and flow of a Python program. Examples include if, else, while, for, def, class, import, return, True, False, and None. Each keyword serves a specific purpose, such as controlling loops, defining functions or classes, and handling exceptions. Python has a fixed set of these keywords, which can be listed using the keyword module with keyword.kwlist. As of Python 3.10, there are 36 keywords."
      ]
    },
    {
      "cell_type": "markdown",
      "metadata": {
        "id": "HiUHgAJQUdBQ"
      },
      "source": [
        "# 4.Can keywords be used as variable names?\n",
        "  ->No, keywords cannot be used as variable names in Python because they are reserved words that have predefined meanings in the language's syntax. Using a keyword as a variable name will result in a SyntaxError.\n",
        "\n",
        "  For example, trying to assign a value like if = 10 will cause an error, since if is a keyword used for conditional statements. Python reserves these words to define the structure and flow of programs, such as for, while, return, class, and def. To avoid errors, always choose variable names that are not part of Python’s list of keywords, which can be checked using keyword."
      ]
    },
    {
      "cell_type": "markdown",
      "metadata": {
        "id": "IUG6omBJVtS6"
      },
      "source": [
        "# 5.What is mutability in Python?\n",
        "  ->In Python, mutability refers to whether an object's state can be changed after it is created. Mutable objects, like lists, dictionaries, and sets, can be modified in place — elements can be added, removed, or changed. Immutable objects, like integers, floats, strings, and tuples, cannot be changed after creation; any operation that alters them creates a new object. Mutability affects how variables behave when passed to functions or assigned to other variables. For example, modifying a mutable object inside a function affects the original object, while reassigning an immutable object creates a new reference, leaving the original unchanged."
      ]
    },
    {
      "cell_type": "markdown",
      "metadata": {
        "id": "KXVYk_RecVDD"
      },
      "source": [
        "# 6.Why are lists mutable, but tuples are immutable?\n",
        "   ->Lists are mutable because they are designed for dynamic data — you can add, remove, or change elements without creating a new list. This makes them flexible and efficient for tasks requiring frequent updates. Tuples, on the other hand, are immutable to ensure data integrity and enable their use as dictionary keys or set elements, which require hashable (unchangeable) types. Immutability also improves performance and thread safety. Python’s design separates these types to give programmers clear choices: use lists for mutable sequences and tuples for fixed, unchangeable collections. This distinction supports both flexibility and reliability in different programming contexts.\n",
        "\n",
        "\n",
        "\n",
        "\n",
        "\n",
        "\n",
        "\n"
      ]
    },
    {
      "cell_type": "markdown",
      "metadata": {
        "id": "2BXqJwECcsZj"
      },
      "source": [
        "# 7.What is the difference between “==” and “is” operators in Python ?\n",
        "  ->In Python, “==” checks value equality — whether two variables have the same data or content. “is” checks identity — whether two variables point to the exact same object in memory. For example, two separate lists with the same elements will be equal (==) but not identical (is). The is operator is often used to compare with singletons like None (e.g., if x is None:). Misusing is instead of == can lead to subtle bugs, especially with immutable objects like strings or numbers, which Python may internally cache and reuse, making is sometimes return True unexpectedly.\n",
        "\n",
        "\n",
        "\n",
        "\n",
        "\n",
        "\n",
        "\n"
      ]
    },
    {
      "cell_type": "markdown",
      "metadata": {
        "id": "6kC-kUX5d8DG"
      },
      "source": [
        "# 8.What are logical operators in Python?\n",
        "  ->Logical operators in Python are used to combine or invert boolean expressions. The three main logical operators are and, or, and not.\n",
        "  \"and\" returns True if both conditions are True, \"or\" returns True if at least one condition is True, \"not\" inverts the boolean value — not True becomes False, and vice versa.\n",
        "\n",
        "  These operators are commonly used in if statements and conditional logic to control program flow. For example: if x > 0 and y > 0: checks if both x and y are positive before executing a block."
      ]
    },
    {
      "cell_type": "markdown",
      "metadata": {
        "id": "RI5BbJyff6rw"
      },
      "source": [
        "# 9.What is type casting in Python?\n",
        "  ->Type casting in Python is the process of converting a value from one data type to another. It can be done explicitly using built-in functions like int(), float(), str(), and bool(). For example, int(\"5\") converts the string \"5\" to the integer 5, and float(3) converts the integer 3 to 3.0. Implicit casting (or coercion) can also occur when Python automatically converts types during operations, such as converting an int to a float in mixed-type arithmetic. Type casting is useful for ensuring compatibility between different data types in expressions, input/output, or function arguments."
      ]
    },
    {
      "cell_type": "markdown",
      "metadata": {
        "id": "E34A96Jugd7D"
      },
      "source": [
        "# 10.What is the difference between implicit and explicit type casting?\n",
        "  ->n Python, implicit type casting (coercion) happens automatically when Python converts one data type to another during operations. For example, in 3 + 2.5, the integer 3 is implicitly cast to a float, resulting in 5.5. This avoids type errors without programmer intervention. Explicit type casting, or type conversion, is done manually using functions like int(), float(), str(), or bool(). For instance, int(\"7\") explicitly converts the string \"7\" to an integer. Explicit casting gives the programmer control over conversions, especially when dealing with user input or mixed data types. Improper casting may raise errors if types are incompatible."
      ]
    },
    {
      "cell_type": "markdown",
      "metadata": {
        "id": "nKi8mdCVhtM1"
      },
      "source": [
        "# 11.What is the purpose of conditional statements in Python ?\n",
        "  ->Conditional statements in Python control the flow of a program by executing different blocks of code based on whether a condition is true or false. The main conditional statements are if, elif, and else. They allow programs to make decisions and respond to different inputs or situations. For example, if score >= 50: can trigger a message like “Pass,” while else: might show “Fail.” Conditions are typically based on comparisons or logical operations. Without conditionals, a program would follow a fixed path, making it less dynamic and interactive. They are essential for implementing logic, branching, and real-world decision-making."
      ]
    },
    {
      "cell_type": "markdown",
      "metadata": {
        "id": "W5deK4_Wh81q"
      },
      "source": [
        "# 12.How does the elif statement work?\n",
        "  ->The elif statement in Python stands for “else if” and is used to check multiple conditions after an initial if statement. When the if condition is false, Python evaluates each elif in order. If an elif condition is true, its block runs, and the rest are skipped. If none of the if or elif conditions are true, an optional else block can run as a fallback. This structure allows for clean, readable multi-branch decision logic. For example, you can check grades: if score >= 90, elif score >= 80, etc., to assign letter grades based on ranges."
      ]
    },
    {
      "cell_type": "markdown",
      "metadata": {
        "id": "-HvFuJ6HiQr0"
      },
      "source": [
        "## 13.What is the difference between for and while loops?\n",
        "  ->In Python, for and while loops are used for iteration but differ in purpose and control. A for loop is used when you know in advance how many times to iterate, often over sequences like lists, strings, or ranges. For example, for i in range(5) runs five times. A while loop is used when the number of iterations is unknown and depends on a condition being true. It continues looping as long as the condition remains true. For example, while x < 10: runs until x reaches 10. for is preferred for definite loops, while for indefinite ones.\n",
        "\n",
        "\n",
        "\n",
        "\n",
        "\n",
        "\n",
        "\n",
        "  \n"
      ]
    },
    {
      "cell_type": "markdown",
      "metadata": {
        "id": "XBYAGT91ipTW"
      },
      "source": [
        "# 14.Describe a scenario where a while loop is more suitable than a for loop?\n",
        "  ->A while loop is more suitable when the number of iterations isn't known in advance and depends on a changing condition. For example, reading user input until they enter a specific keyword like “exit” is ideal for a while loop. You can write....\n",
        "  "
      ]
    },
    {
      "cell_type": "code",
      "execution_count": 2,
      "metadata": {
        "colab": {
          "base_uri": "https://localhost:8080/",
          "height": 0
        },
        "id": "btmsnqUDjboU",
        "outputId": "1cd1f83b-74be-4d43-acc5-110a9ff60c67"
      },
      "outputs": [
        {
          "name": "stdout",
          "output_type": "stream",
          "text": [
            "Type 'exit' to quit: abf\n",
            "Type 'exit' to quit: acd\n",
            "Type 'exit' to quit: exit\n"
          ]
        }
      ],
      "source": [
        "user_input = \"\"\n",
        "while user_input != \"exit\":\n",
        "    user_input = input(\"Type 'exit' to quit: \")\n"
      ]
    },
    {
      "cell_type": "markdown",
      "metadata": {
        "id": "THRvlJ0fkQ0w"
      },
      "source": [
        "# **Practical Questions**"
      ]
    },
    {
      "cell_type": "code",
      "execution_count": 3,
      "metadata": {
        "colab": {
          "base_uri": "https://localhost:8080/"
        },
        "id": "n71vpoD0jdiL",
        "outputId": "236992c3-fced-4c50-e1ee-f5070814a1ff"
      },
      "outputs": [
        {
          "name": "stdout",
          "output_type": "stream",
          "text": [
            "Hello, World!\n"
          ]
        }
      ],
      "source": [
        "#1.Write a Python program to print \"Hello, World!\"?\n",
        "print(\"Hello, World!\")\n"
      ]
    },
    {
      "cell_type": "code",
      "execution_count": 5,
      "metadata": {
        "colab": {
          "base_uri": "https://localhost:8080/"
        },
        "id": "H5TJ0bIlkhfO",
        "outputId": "cd853891-631d-4dde-e7b8-bbec75a8c789"
      },
      "outputs": [
        {
          "name": "stdout",
          "output_type": "stream",
          "text": [
            "Enter your name:Ashutosh \n",
            "Enter your name:22\n",
            "Name: Ashutosh \n",
            "Age: 22\n"
          ]
        }
      ],
      "source": [
        "#2.Write a Python program that displays your name and age?\n",
        "name = input(\"Enter your name:\")\n",
        "age  = input(\"Enter your name:\")\n",
        "print(\"Name:\",name)\n",
        "print(\"Age:\",age)"
      ]
    },
    {
      "cell_type": "code",
      "execution_count": 9,
      "metadata": {
        "colab": {
          "base_uri": "https://localhost:8080/"
        },
        "id": "inJrFy7rl_v0",
        "outputId": "10c4a71c-ab56-49c5-9c6f-9473ff184311"
      },
      "outputs": [
        {
          "name": "stdout",
          "output_type": "stream",
          "text": [
            "['False', 'None', 'True', 'and', 'as', 'assert', 'async', 'await', 'break', 'class', 'continue', 'def', 'del', 'elif', 'else', 'except', 'finally', 'for', 'from', 'global', 'if', 'import', 'in', 'is', 'lambda', 'nonlocal', 'not', 'or', 'pass', 'raise', 'return', 'try', 'while', 'with', 'yield']\n"
          ]
        }
      ],
      "source": [
        "#3.Write code to print all the pre-defined keywords in Python using the keyword library.\n",
        "import keyword\n",
        "\n",
        "print(keyword.kwlist)"
      ]
    },
    {
      "cell_type": "code",
      "execution_count": 11,
      "metadata": {
        "colab": {
          "base_uri": "https://localhost:8080/"
        },
        "id": "9RZvYDg4oycQ",
        "outputId": "bf607a1d-a08d-4aad-c1ea-4b789abd8538"
      },
      "outputs": [
        {
          "name": "stdout",
          "output_type": "stream",
          "text": [
            "Enter a word to check if it's a Python keyword: you\n",
            "'you' is NOT a Python keyword.\n"
          ]
        }
      ],
      "source": [
        "#4.Write a program that checks if a given word is a Python keyword.\n",
        "import keyword\n",
        "\n",
        "# Ask the user to enter a word\n",
        "word = input(\"Enter a word to check if it's a Python keyword: \")\n",
        "\n",
        "# Check if the word is a keyword\n",
        "if keyword.iskeyword(word):\n",
        "    print(f\"'{word}' is a Python keyword.\")\n",
        "else:\n",
        "    print(f\"'{word}' is NOT a Python keyword.\")\n"
      ]
    },
    {
      "cell_type": "code",
      "execution_count": 12,
      "metadata": {
        "colab": {
          "base_uri": "https://localhost:8080/",
          "height": 211
        },
        "id": "DqWrI3ilrd-0",
        "outputId": "c939fef3-c574-4fa0-f1ce-59b946700f51"
      },
      "outputs": [
        {
          "name": "stdout",
          "output_type": "stream",
          "text": [
            "modified list [10, 20, 50, 40]\n"
          ]
        },
        {
          "ename": "TypeError",
          "evalue": "'tuple' object does not support item assignment",
          "output_type": "error",
          "traceback": [
            "\u001b[0;31m---------------------------------------------------------------------------\u001b[0m",
            "\u001b[0;31mTypeError\u001b[0m                                 Traceback (most recent call last)",
            "\u001b[0;32m<ipython-input-12-b8b097103b31>\u001b[0m in \u001b[0;36m<cell line: 0>\u001b[0;34m()\u001b[0m\n\u001b[1;32m      5\u001b[0m \u001b[0ml\u001b[0m\u001b[0;34m[\u001b[0m\u001b[0;36m2\u001b[0m\u001b[0;34m]\u001b[0m\u001b[0;34m=\u001b[0m\u001b[0;36m50\u001b[0m\u001b[0;34m\u001b[0m\u001b[0;34m\u001b[0m\u001b[0m\n\u001b[1;32m      6\u001b[0m \u001b[0mprint\u001b[0m\u001b[0;34m(\u001b[0m\u001b[0;34m\"modified list\"\u001b[0m\u001b[0;34m,\u001b[0m\u001b[0ml\u001b[0m\u001b[0;34m)\u001b[0m\u001b[0;34m\u001b[0m\u001b[0;34m\u001b[0m\u001b[0m\n\u001b[0;32m----> 7\u001b[0;31m \u001b[0mt\u001b[0m\u001b[0;34m[\u001b[0m\u001b[0;36m2\u001b[0m\u001b[0;34m]\u001b[0m\u001b[0;34m=\u001b[0m\u001b[0;36m50\u001b[0m\u001b[0;34m\u001b[0m\u001b[0;34m\u001b[0m\u001b[0m\n\u001b[0m\u001b[1;32m      8\u001b[0m \u001b[0mprint\u001b[0m\u001b[0;34m(\u001b[0m\u001b[0;34m\"modifies tuple\"\u001b[0m\u001b[0;34m,\u001b[0m\u001b[0mt\u001b[0m\u001b[0;34m)\u001b[0m\u001b[0;34m\u001b[0m\u001b[0;34m\u001b[0m\u001b[0m\n",
            "\u001b[0;31mTypeError\u001b[0m: 'tuple' object does not support item assignment"
          ]
        }
      ],
      "source": [
        "#5. Create a list and tuple in Python, and demonstrate how attempting to change an element works differently for each.\n",
        "l=[10,20,30,40]\n",
        "t=(10,20,30,40)\n",
        "\n",
        "l[2]=50\n",
        "print(\"modified list\",l)\n",
        "t[2]=50\n",
        "print(\"modifies tuple\",t)                                  #type error-> 'tuple' object does not support item assignment"
      ]
    },
    {
      "cell_type": "code",
      "execution_count": 13,
      "metadata": {
        "colab": {
          "base_uri": "https://localhost:8080/"
        },
        "id": "Sa7Rthkf2wJt",
        "outputId": "d638afdc-108f-4dbb-ba0a-895cae801d3a"
      },
      "outputs": [
        {
          "name": "stdout",
          "output_type": "stream",
          "text": [
            "Before function call:\n",
            "num: 5\n",
            "lst: [1, 2, 3]\n",
            "Inside function before modification:\n",
            "a_number: 5\n",
            "a_list: [1, 2, 3]\n",
            "Inside function after modification:\n",
            "a_number: 15\n",
            "a_list: [1, 2, 3, 100]\n",
            "After function call:\n",
            "num: 5\n",
            "lst: [1, 2, 3, 100]\n"
          ]
        }
      ],
      "source": [
        "#6.Write a function to demonstrate the behavior of mutable and immutable arguments.\n",
        "def modify_arguments(a_number, a_list):\n",
        "    print(\"Inside function before modification:\")\n",
        "    print(\"a_number:\", a_number)\n",
        "    print(\"a_list:\", a_list)\n",
        "\n",
        "    a_number += 10          # This modifies the local copy of the number (immutable)\n",
        "    a_list.append(100)      # This modifies the original list (mutable)\n",
        "\n",
        "    print(\"Inside function after modification:\")\n",
        "    print(\"a_number:\", a_number)\n",
        "    print(\"a_list:\", a_list)\n",
        "\n",
        "# Immutable and mutable objects\n",
        "num = 5\n",
        "lst = [1, 2, 3]\n",
        "\n",
        "print(\"Before function call:\")\n",
        "print(\"num:\", num)\n",
        "print(\"lst:\", lst)\n",
        "\n",
        "modify_arguments(num, lst)\n",
        "\n",
        "print(\"After function call:\")\n",
        "print(\"num:\", num)     # Still 5\n",
        "print(\"lst:\", lst)     # Now [1, 2, 3, 100]\n"
      ]
    },
    {
      "cell_type": "code",
      "execution_count": 20,
      "metadata": {
        "colab": {
          "base_uri": "https://localhost:8080/"
        },
        "id": "5bZiqafM5CQp",
        "outputId": "bf7b0e83-0f5a-4624-d068-c505b1b05d74"
      },
      "outputs": [
        {
          "name": "stdout",
          "output_type": "stream",
          "text": [
            "Enter the first number: 20\n",
            "Enter the second number: 45\n",
            "\n",
            "Results:\n",
            "Addition: 65.0\n",
            "Subtraction: -25.0\n",
            "Multiplication: 900.0\n",
            "Division: 0.4444444444444444\n"
          ]
        }
      ],
      "source": [
        "#7.Write a program that performs basic arithmetic operations on two user-input numbers.\n",
        "# Get input from the user\n",
        "num1 = float(input(\"Enter the first number: \"))\n",
        "num2 = float(input(\"Enter the second number: \"))\n",
        "\n",
        "# Perform arithmetic operations\n",
        "addition = num1 + num2\n",
        "subtraction = num1 - num2\n",
        "multiplication = num1 * num2\n",
        "\n",
        "# Handle division safely\n",
        "if num2 != 0:\n",
        "    division = num1 / num2\n",
        "else:\n",
        "    division = \"Undefined (cannot divide by zero)\"\n",
        "\n",
        "# Display results\n",
        "print(\"\\nResults:\")\n",
        "print(\"Addition:\", addition)\n",
        "print(\"Subtraction:\", subtraction)\n",
        "print(\"Multiplication:\", multiplication)\n",
        "print(\"Division:\", division)\n"
      ]
    },
    {
      "cell_type": "code",
      "execution_count": 25,
      "metadata": {
        "colab": {
          "base_uri": "https://localhost:8080/"
        },
        "id": "pV2FEDpI5oUj",
        "outputId": "b14cea71-69c7-4212-856e-58a66a6d56f1"
      },
      "outputs": [
        {
          "name": "stdout",
          "output_type": "stream",
          "text": [
            "enter ur age:36\n",
            "do u have ticket or not (yes/no):no\n",
            "\n",
            "logical operartor result:\n",
            "can enter in event= True\n",
            "do u have ticket= False\n"
          ]
        }
      ],
      "source": [
        "#8. Write a program to demonstrate the use of logical operators?\n",
        "age =int(input(\"enter ur age:\"))\n",
        "has_ticket=input(\"do u have ticket or not (yes/no):\")\n",
        "\n",
        "has_ticket_bool=(has_ticket==\"yes\")\n",
        "\n",
        "can_enter=(age<=18) and has_ticket_bool\n",
        "can_enter=(age>18) or not has_ticket_bool\n",
        "\n",
        "print(\"\\nlogical operartor result:\")\n",
        "print(\"can enter in event=\",can_enter)\n",
        "print(\"do u have ticket=\",has_ticket_bool)"
      ]
    },
    {
      "cell_type": "code",
      "execution_count": 30,
      "metadata": {
        "colab": {
          "base_uri": "https://localhost:8080/"
        },
        "id": "uDOoQYeU5xmB",
        "outputId": "0374698b-19f0-4632-b85a-43336b5df1a7"
      },
      "outputs": [
        {
          "name": "stdout",
          "output_type": "stream",
          "text": [
            "Enter the value:45\n",
            "integer value: 45\n",
            "float value: 45.0\n",
            "boolean value: True\n"
          ]
        }
      ],
      "source": [
        "#9. Write a Python program to convert user input from string to integer, float, and boolean types.\n",
        "user=input(\"Enter the value:\")\n",
        "\n",
        "int_value=int(user)\n",
        "print(\"integer value:\",int_value)\n",
        "\n",
        "float_value=float(user)\n",
        "print(\"float value:\",float_value)\n",
        "\n",
        "bool_value=bool(user)\n",
        "print(\"boolean value:\",bool_value)"
      ]
    },
    {
      "cell_type": "code",
      "execution_count": 32,
      "metadata": {
        "colab": {
          "base_uri": "https://localhost:8080/"
        },
        "id": "eTmoXg40BsPb",
        "outputId": "a38c781c-c9ee-4562-cbcb-e534c81553af"
      },
      "outputs": [
        {
          "name": "stdout",
          "output_type": "stream",
          "text": [
            "Original string list: ['10', '20', '30', '40.5', '50']\n",
            "Converted to integers: [10, 20, 30, 40, 50]\n",
            "Converted to floats: [10.0, 20.0, 30.0, 40.5, 50.0]\n",
            "Converted to booleans: [True, True, True, True, True]\n"
          ]
        }
      ],
      "source": [
        "#10. Write code to demonstrate type casting with list elements\n",
        "# List with string representations of numbers\n",
        "str_list = ['10', '20', '30', '40.5', '50']\n",
        "\n",
        "# Convert all elements to integers where possible\n",
        "int_list = []\n",
        "for item in str_list:\n",
        "    try:\n",
        "        int_list.append(int(float(item)))  # Handles both integers and floats\n",
        "    except ValueError:\n",
        "        int_list.append(None)  # In case of invalid conversion\n",
        "\n",
        "# Convert all elements to floats\n",
        "float_list = [float(item) for item in str_list]\n",
        "\n",
        "# Convert all elements to booleans\n",
        "bool_list = [bool(item) for item in str_list]\n",
        "\n",
        "# Print results\n",
        "print(\"Original string list:\", str_list)\n",
        "print(\"Converted to integers:\", int_list)\n",
        "print(\"Converted to floats:\", float_list)\n",
        "print(\"Converted to booleans:\", bool_list)\n"
      ]
    },
    {
      "cell_type": "code",
      "execution_count": 33,
      "metadata": {
        "colab": {
          "base_uri": "https://localhost:8080/"
        },
        "id": "sgPwVDsaCMyl",
        "outputId": "88c948ee-ab28-4542-f1b1-d2287063ac38"
      },
      "outputs": [
        {
          "name": "stdout",
          "output_type": "stream",
          "text": [
            "Enter a number: -3\n",
            "The number is negative.\n"
          ]
        }
      ],
      "source": [
        "#11. Write a program that checks if a number is positive, negative, or zero.\n",
        "\n",
        "\n",
        "# Get input from the user\n",
        "num = float(input(\"Enter a number: \"))\n",
        "\n",
        "# Check if the number is positive, negative, or zero\n",
        "if num > 0:\n",
        "    print(\"The number is positive.\")\n",
        "elif num < 0:\n",
        "    print(\"The number is negative.\")\n",
        "else:\n",
        "    print(\"The number is zero.\")\n"
      ]
    },
    {
      "cell_type": "code",
      "execution_count": 34,
      "metadata": {
        "colab": {
          "base_uri": "https://localhost:8080/"
        },
        "id": "tNvnrRrlDeCO",
        "outputId": "acf8ada8-7639-497f-f2c6-ee02bfa8339a"
      },
      "outputs": [
        {
          "name": "stdout",
          "output_type": "stream",
          "text": [
            "1\n",
            "2\n",
            "3\n",
            "4\n",
            "5\n",
            "6\n",
            "7\n",
            "8\n",
            "9\n",
            "10\n"
          ]
        }
      ],
      "source": [
        "#12. Write a for loop to print numbers from 1 to 10.\n",
        "\n",
        "for i in range(1,11):\n",
        "  print(i)"
      ]
    },
    {
      "cell_type": "code",
      "execution_count": 36,
      "metadata": {
        "colab": {
          "base_uri": "https://localhost:8080/"
        },
        "id": "Arn9RRFSECeK",
        "outputId": "e1c44f1a-8063-441d-eb0c-c67f189adfef"
      },
      "outputs": [
        {
          "name": "stdout",
          "output_type": "stream",
          "text": [
            "sum of all even number: 650\n"
          ]
        }
      ],
      "source": [
        "from re import I\n",
        "#13. Write a Python program to find the sum of all even numbers between 1 and 50.\n",
        "even_sum=0\n",
        "\n",
        "for i in range(1,51):\n",
        "  if i%2==0:\n",
        "    even_sum += i\n",
        "print(\"sum of all even number:\",even_sum)"
      ]
    },
    {
      "cell_type": "code",
      "execution_count": 37,
      "metadata": {
        "colab": {
          "base_uri": "https://localhost:8080/"
        },
        "id": "95PB6v1iEkhL",
        "outputId": "4594b742-9a6c-4b47-9b7a-5e3c0a36f3c4"
      },
      "outputs": [
        {
          "name": "stdout",
          "output_type": "stream",
          "text": [
            "Enter a string: Ashutosh\n",
            "Reversed string: hsotuhsA\n"
          ]
        }
      ],
      "source": [
        "#14. Write a program to reverse a string using a while loop\n",
        "# Get input from the user\n",
        "original = input(\"Enter a string: \")\n",
        "\n",
        "# Initialize variables\n",
        "reversed_str = \"\"\n",
        "index = len(original) - 1\n",
        "\n",
        "# Reverse the string using a while loop\n",
        "while index >= 0:\n",
        "    reversed_str += original[index]\n",
        "    index -= 1\n",
        "\n",
        "# Print the reversed string\n",
        "print(\"Reversed string:\", reversed_str)\n"
      ]
    },
    {
      "cell_type": "code",
      "execution_count": 38,
      "metadata": {
        "colab": {
          "base_uri": "https://localhost:8080/"
        },
        "id": "9EQfGC18F2s5",
        "outputId": "2be1d7a6-57d2-4fff-9e2b-28c34c099e47"
      },
      "outputs": [
        {
          "name": "stdout",
          "output_type": "stream",
          "text": [
            "Enter a non-negative integer: 4\n",
            "Factorial of 4 is: 24\n"
          ]
        }
      ],
      "source": [
        "#15. Write a Python program to calculate the factorial of a number provided by the user using a while loop.\n",
        "\n",
        "# Get input from the user\n",
        "num = int(input(\"Enter a non-negative integer: \"))\n",
        "\n",
        "# Check for valid input\n",
        "if num < 0:\n",
        "    print(\"Factorial is not defined for negative numbers.\")\n",
        "else:\n",
        "    factorial = 1\n",
        "    counter = num\n",
        "\n",
        "    # Calculate factorial using while loop\n",
        "    while counter > 1:\n",
        "        factorial *= counter\n",
        "        counter -= 1\n",
        "\n",
        "    print(f\"Factorial of {num} is: {factorial}\")\n"
      ]
    },
    {
      "cell_type": "code",
      "execution_count": null,
      "metadata": {
        "id": "EZj9MWkRHJUX"
      },
      "outputs": [],
      "source": []
    }
  ],
  "metadata": {
    "colab": {
      "provenance": []
    },
    "kernelspec": {
      "display_name": "Python 3",
      "name": "python3"
    },
    "language_info": {
      "name": "python"
    }
  },
  "nbformat": 4,
  "nbformat_minor": 0
}
